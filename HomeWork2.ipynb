{
 "cells": [
  {
   "cell_type": "markdown",
   "metadata": {},
   "source": [
    "# CSE 566S Homework 2\n",
    "## Christopher Ogle\n",
    "___"
   ]
  },
  {
   "cell_type": "markdown",
   "metadata": {},
   "source": [
    "## Problem 3\n",
    "___\n",
    "<center><h3>Data Collection Methodology</h3></center>\n",
    "<p>\n",
    "An important thing to discuss is how data was collected for the following\n",
    "trials. The code that is being used for this problem is the supplied code\n",
    "given to us in the zip file. For this particular test the \n",
    "<b>OMP_NUM_THREADS</b> variable is set to four, further exploration of the\n",
    "how the number of threads affects run time will be looked at later in\n",
    "Problem number 5. Each test will be ran five times with our timing results\n",
    "based off of the timing hook provided in the code (explanation of why in conclusion).\n",
    "All test were run from the school's system. \n",
    "</p>"
   ]
  },
  {
   "cell_type": "code",
   "execution_count": 4,
   "metadata": {
    "collapsed": false
   },
   "outputs": [
    {
     "data": {
      "text/html": [
       "<iframe id=\"igraph\" scrolling=\"no\" style=\"border:none;\" seamless=\"seamless\" src=\"https://plot.ly/~cogle/20.embed\" height=\"750px\" width=\"100%\"></iframe>"
      ],
      "text/plain": [
       "<plotly.tools.PlotlyDisplay object>"
      ]
     },
     "execution_count": 4,
     "metadata": {},
     "output_type": "execute_result"
    }
   ],
   "source": [
    "import plotly.plotly as py\n",
    "import plotly.graph_objs as go\n",
    "\n",
    "#CPU events registered, pulled from results folder\n",
    "y0 = [13.530811, 13.134220, 12.986208, 12.984937, 13.180286]\n",
    "y1 = [6.335300, 6.365037, 6.335672, 6.375288, 6.640547]\n",
    "y2 = [3.154183, 3.151281, 3.294024, 3.160028, 3.361889]\n",
    "y3 = [2.982923, 3.163661, 3.316781, 3.000088, 2.992154]\n",
    "y4 = [2.485518, 2.546888, 2.478904, 2.492690, 2.630998]\n",
    "\n",
    "#Each Traces represents a level of optimization\n",
    "trace0 = go.Box(\n",
    "    y=y0,\n",
    "    name = 'No Opt'\n",
    ")\n",
    "trace1 = go.Box(\n",
    "    y=y1,\n",
    "    name = 'Level 1 Opt'\n",
    ")\n",
    "trace2 = go.Box(\n",
    "    y=y2,\n",
    "    name = 'Level 2 Opt'\n",
    ")\n",
    "trace3 = go.Box(\n",
    "    y=y3,\n",
    "    name = 'Level 3 Opt'\n",
    ")\n",
    "trace4 = go.Box(\n",
    "    y=y4,\n",
    "    name = 'Fast Opt'\n",
    ")\n",
    "data = [trace0, trace1, trace2, trace3,trace4]\n",
    "\n",
    "layout=go.Layout(height=750,\n",
    "                 title=\"OpenMP: Time to run vs Optimization\", \n",
    "                 xaxis={'title':'Optimization Level'}, \n",
    "                 yaxis={'title':'Time (sec)'})\n",
    "\n",
    "figure=go.Figure(data=data,layout=layout)\n",
    "py.iplot(figure, filename='OpenMP_graph')"
   ]
  },
  {
   "cell_type": "markdown",
   "metadata": {},
   "source": [
    "<div>\n",
    "    <a href=\"https://plot.ly/~cogle/20/\" target=\"_blank\" \n",
    "       title=\"OpenMP: Time to run vs Optimization\" \n",
    "       style=\"display: block; text-align: center;\">\n",
    "       \n",
    "        <img src=\"https://plot.ly/~cogle/20.png\" alt=\"OpenMP: Time to run vs Optimization\" \n",
    "             style=\"max-height:1000\"  \n",
    "             onerror=\"this.onerror=null;this.src='https://plot.ly/404.png';\" />\n",
    "    </a>\n",
    "    <script data-plotly=\"cogle:20\"  src=\"https://plot.ly/embed.js\" async></script>\n",
    "</div>"
   ]
  },
  {
   "cell_type": "markdown",
   "metadata": {},
   "source": [
    "<center><h3>OpenMP Optimization Data Analysis</h3></center>"
   ]
  },
  {
   "cell_type": "markdown",
   "metadata": {
    "collapsed": true
   },
   "source": [
    "<p>\n",
    "Looking at the graph above we can clearly see the trend that as you increase the\n",
    "optimization level the time required to run the algorithm decreases as well too.\n",
    "In the previous assignment we saw that as the optimization level increased, that\n",
    "didn't always correspond in an increase in time.\n",
    "As stated above this particular experiment used 4 threads; one of the things\n",
    "that using 4 threads allows us to do is that we can take advantage assigning\n",
    "each thread to its own core. This allows each thread to take advantage of cache\n",
    "locality when iterating through the for loops. In addition when the compiler\n",
    "optimizes the code each OpenMP thread receives the optimized code. This allows\n",
    "each of the threads to run that optimized code, and results in further speed \n",
    "ups. \n",
    "</p>"
   ]
  },
  {
   "cell_type": "markdown",
   "metadata": {},
   "source": [
    "<p>\n",
    "In order to try and determine what lead to such a drop in the speed I compiled\n",
    "the program at optimization level one and then using the following site\n",
    "<a>https://gcc.gnu.org/onlinedocs/gcc/Optimize-Options.html</a> I applied\n",
    "each one the optimizations to the program and made it. While lots of\n",
    "optimizations decreased the time bit by bit I noticed that the\n",
    "<b>-fcaller-saves</b> optimization decreased the amount of time that the code\n",
    "to run by about 2 seconds from what we see as the average time to run code\n",
    "at Level 1 Optimization.\n",
    "<p>"
   ]
  },
  {
   "cell_type": "markdown",
   "metadata": {},
   "source": [
    "<img src=\"https://raw.githubusercontent.com/cogle/CSE566_Homework_2/master/Results/OptimizationSnip/Timing.PNG\"></img>\n",
    "<p><i>With <b>-fcaller-saves</b></i><p>"
   ]
  },
  {
   "cell_type": "markdown",
   "metadata": {},
   "source": [
    "<h2>Problem 5</h2>\n",
    "___\n",
    "<center><h3>Data Collection Methodology</h3></center>\n",
    "<p>\n",
    "For this particular problem the data was collected by running the supplied code\n",
    "compiled with optimization level two on the schools system. As before the basis\n",
    "of our  time measurement comes from the in code timing hooks. \n",
    "</p>"
   ]
  },
  {
   "cell_type": "code",
   "execution_count": 13,
   "metadata": {
    "collapsed": false
   },
   "outputs": [
    {
     "data": {
      "text/html": [
       "<iframe id=\"igraph\" scrolling=\"no\" style=\"border:none;\" seamless=\"seamless\" src=\"https://plot.ly/~cogle/22.embed\" height=\"1000px\" width=\"100%\"></iframe>"
      ],
      "text/plain": [
       "<plotly.tools.PlotlyDisplay object>"
      ]
     },
     "execution_count": 13,
     "metadata": {},
     "output_type": "execute_result"
    }
   ],
   "source": [
    "import plotly.plotly as py\n",
    "import plotly.graph_objs as go\n",
    "from plotly.tools import FigureFactory as FF \n",
    "\n",
    "# Create random data with numpy\n",
    "import numpy as np\n",
    "\n",
    "x = ['1', '2', '3' ,'4', '5',\n",
    "     '6', '7', '8' ,'9', '10',\n",
    "     '11', '12', '13' ,'14', '15',\n",
    "     '16', '17', '18' ,'20', '24',\n",
    "     '28', '32']\n",
    "\n",
    "\n",
    "thread_1 = [10.898600,12.290995,10.954756,11.661482,10.960365]\n",
    "thread_2 = [5.894024,5.890253,5.977245,5.880431,5.882158]\n",
    "thread_3 = [4.176541,4.108237,4.116009,4.180820,4.174366]\n",
    "thread_4 = [3.217831,3.153855,3.329593,3.408588,3.166579]\n",
    "thread_5 = [2.730287,2.711400,2.710112,2.709504,2.642026]\n",
    "thread_6 = [2.334213,2.334365,2.325414,2.451602,2.383726]\n",
    "thread_7 = [2.117244,2.109290,2.112163,2.134355,2.140245]\n",
    "thread_8 = [1.965674,1.970861,1.950640,1.981355,1.984397]\n",
    "thread_9 = [1.897913,1.825782,1.842638,1.822134,1.840135]\n",
    "thread_10 = [1.806611,1.774046,1.744866,1.797151,1.770225]\n",
    "thread_11 = [1.734292,1.682412,1.670571,1.630883,1.689738]\n",
    "thread_12 = [1.657432,1.627978,1.628685,1.635920,1.613842]\n",
    "thread_13 = [144.503488,90.712890,107.803704,145.356468,86.514884]\n",
    "thread_14 = [202.512106,204.469967,203.908372,203.810552,204.043968]\n",
    "thread_15 = [208.167857,207.126849,208.316489,207.540062,209.958652]\n",
    "thread_16 = [213.714671,213.416896,213.798919,213.025954,213.123323]\n",
    "thread_17 = [4.224755,4.252676,3.967282,3.952878,4.039162]\n",
    "thread_18 = [3.990004,3.962726,4.197004,4.090027,3.979533]\n",
    "thread_20 = [4.148234,4.108585,4.097461,4.474365,4.185891]\n",
    "thread_24 = [4.616228,4.576650,4.988805,4.596670,4.568135]\n",
    "thread_28 = [5.245399,5.319254,5.572317,4.870642,5.495162]\n",
    "thread_32 = [5.438613,6.375927,5.940444,5.687882,5.948909]\n",
    "thread_36 = [6.530933,6.799963,6.203396,6.301346,7.821452]\n",
    "\n",
    "\n",
    "y0 = [np.average(thread_1),\n",
    "      np.average(thread_2),\n",
    "      np.average(thread_3),\n",
    "      np.average(thread_4),\n",
    "      np.average(thread_5),\n",
    "      np.average(thread_6),\n",
    "      np.average(thread_7),\n",
    "      np.average(thread_8),\n",
    "      np.average(thread_9),\n",
    "      np.average(thread_10),\n",
    "      np.average(thread_11),\n",
    "      np.average(thread_12),\n",
    "      np.average(thread_13),\n",
    "      np.average(thread_14),\n",
    "      np.average(thread_15),\n",
    "      np.average(thread_16),\n",
    "      np.average(thread_17),\n",
    "      np.average(thread_18),\n",
    "      np.average(thread_20),\n",
    "      np.average(thread_24),\n",
    "      np.average(thread_28),\n",
    "      np.average(thread_32),\n",
    "      np.average(thread_36),\n",
    "     ]\n",
    "\n",
    "\n",
    "# Create traces\n",
    "trace0 = go.Scatter(\n",
    "    x = x,\n",
    "    y = y0,\n",
    "    mode = 'lines+markers',\n",
    "    name = 'r = vM (Default)',\n",
    "    error_y=dict(\n",
    "        type='data',\n",
    "        array=[np.std(thread_1), \n",
    "               np.std(thread_2),\n",
    "               np.std(thread_3),\n",
    "               np.std(thread_4),\n",
    "               np.std(thread_5),\n",
    "               np.std(thread_6),\n",
    "               np.std(thread_7),\n",
    "               np.std(thread_8),\n",
    "               np.std(thread_8),\n",
    "               np.std(thread_9),\n",
    "               np.std(thread_10),\n",
    "               np.std(thread_11),\n",
    "               np.std(thread_12),\n",
    "               np.std(thread_13),\n",
    "               np.std(thread_14),\n",
    "               np.std(thread_15),\n",
    "               np.std(thread_16),\n",
    "               np.std(thread_17),\n",
    "               np.std(thread_18),\n",
    "               np.std(thread_20),\n",
    "               np.std(thread_24),\n",
    "               np.std(thread_28),\n",
    "               np.std(thread_32),\n",
    "               np.std(thread_36)],\n",
    "        visible=True\n",
    "    )\n",
    ")\n",
    "\n",
    "data = [trace0]\n",
    "layout=go.Layout(height=1000,\n",
    "                 title=\"OpenMP: Time to run vs Number of Threads\", \n",
    "                 xaxis={'title':'Number of Threads'}, \n",
    "                 yaxis={'title':'Time(sec)'})\n",
    "\n",
    "figure=go.Figure(data=data,layout=layout)\n",
    "py.iplot(figure, filename='Thread-Timing')"
   ]
  },
  {
   "cell_type": "markdown",
   "metadata": {},
   "source": [
    "<div>\n",
    "    <a href=\"https://plot.ly/~cogle/22/\" target=\"_blank\" \n",
    "       title=\"OpenMP: Time to run vs Number of Threads\" \n",
    "       style=\"display: block; text-align: center;\">\n",
    "       \n",
    "        <img src=\"https://plot.ly/~cogle/22.png\" alt=\"OpenMP: Time to run vs Number of Threads\" \n",
    "             style=\"max-height:1000\"  \n",
    "             onerror=\"this.onerror=null;this.src='https://plot.ly/404.png';\" />\n",
    "    </a>\n",
    "    <script data-plotly=\"cogle:22\"  src=\"https://plot.ly/embed.js\" async></script>\n",
    "</div>"
   ]
  },
  {
   "cell_type": "markdown",
   "metadata": {
    "collapsed": true
   },
   "source": [
    "<p>\n",
    "It would appear that as we up until 12 threads we were getting the results that\n",
    "we expected as more threads were added a gradual decrease in time take was\n",
    "achieved. However, when using 13 to 16 threads the number of time it takes\n",
    "skyrockets. Using the <b>lscpu</b> command we can determine that our CPU is a\n",
    "Intel® Xeon® Processor E5-2630 v3 (20M Cache, 2.40 GHz), from the manufacturer's\n",
    "spec sheet we that this has 8 physical cores while supporting 16 threads;\n",
    "through hyperthreading each core has two threads. Using the Scalasca utility I\n",
    "was able to determine which lines the thread was spending most of its time. The\n",
    "screen shot below is from the results I gathered. \n",
    "</p>"
   ]
  },
  {
   "cell_type": "markdown",
   "metadata": {},
   "source": [
    "<img src=\"https://raw.githubusercontent.com/cogle/CSE566_Homework_2/master/Results/NoWaitSnip/NoWait.PNG\"></src>\n",
    "<i>Omp for with nowait 14 Threads</i>"
   ]
  },
  {
   "cell_type": "markdown",
   "metadata": {},
   "source": [
    "<img src=\"https://raw.githubusercontent.com/cogle/CSE566_Homework_2/master/Results/NoWaitSnip/Wait.PNG\"></img>\n",
    "<i>Omp for without nowait 14 Threads(Code as originally provided)</i>"
   ]
  },
  {
   "cell_type": "markdown",
   "metadata": {},
   "source": [
    "<img src=\"https://raw.githubusercontent.com/cogle/CSE566_Homework_2/master/Results/NoWaitSnip/10_threads.PNG\"><img>\n",
    "<i>Omp for running 10 Threads</i>"
   ]
  },
  {
   "cell_type": "markdown",
   "metadata": {},
   "source": [
    "<p>\n",
    "From the above screenshots we see that indeed making the code not wait did have\n",
    "a significant difference. However, it did not speed it up to the speeds of the\n",
    "ten thread run. So while we were able to speed up the speed a good amount we\n",
    "still see that there is a lot of difference between running the code with 14\n",
    "threads and 10 threads. This leads me to believe that the code is not being\n",
    "optimized well by OpenMP. Another interesting observation is that the poor\n",
    "timing continues up until the maximum number of threads has been reached, and\n",
    "then immediately after that the numbers return a decent level. I would suspect\n",
    "that there is sub-optimal distribution of the work going on with the threads.\n",
    "</p>\n",
    "<p>\n",
    "In addition one of the things that I thought might be hindering the performance\n",
    "is that as we increase the number of threads and each core now shares multiple\n",
    "threads the cache will get written over much more frequently resulting in more\n",
    "cache misses. This doesn't explain the results that we saw, with there being \n",
    "a sharp jump in time, but it could be a contributing factor. \n",
    "</p>"
   ]
  },
  {
   "cell_type": "code",
   "execution_count": null,
   "metadata": {
    "collapsed": true
   },
   "outputs": [],
   "source": []
  }
 ],
 "metadata": {
  "kernelspec": {
   "display_name": "Python 3",
   "language": "python",
   "name": "python3"
  },
  "language_info": {
   "codemirror_mode": {
    "name": "ipython",
    "version": 3
   },
   "file_extension": ".py",
   "mimetype": "text/x-python",
   "name": "python",
   "nbconvert_exporter": "python",
   "pygments_lexer": "ipython3",
   "version": "3.5.1"
  }
 },
 "nbformat": 4,
 "nbformat_minor": 0
}
